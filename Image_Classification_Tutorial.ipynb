{
  "nbformat": 4,
  "nbformat_minor": 0,
  "metadata": {
    "colab": {
      "name": "Image Classification Tutorial.ipynb",
      "provenance": [],
      "authorship_tag": "ABX9TyMCF1gVPuOi7OMr1nJpNb/U",
      "include_colab_link": true
    },
    "kernelspec": {
      "name": "python3",
      "display_name": "Python 3"
    },
    "language_info": {
      "name": "python"
    },
    "accelerator": "GPU",
    "gpuClass": "standard"
  },
  "cells": [
    {
      "cell_type": "markdown",
      "metadata": {
        "id": "view-in-github",
        "colab_type": "text"
      },
      "source": [
        "<a href=\"https://colab.research.google.com/github/wowthecoder/Image-Classification-Tutorial/blob/main/Image_Classification_Tutorial.ipynb\" target=\"_parent\"><img src=\"https://colab.research.google.com/assets/colab-badge.svg\" alt=\"Open In Colab\"/></a>"
      ]
    },
    {
      "cell_type": "markdown",
      "source": [
        "# 1. Setup and Load Data"
      ],
      "metadata": {
        "id": "Baw6jRewMrax"
      }
    },
    {
      "cell_type": "markdown",
      "source": [
        "### 1.1 Installing Dependencies and Setup"
      ],
      "metadata": {
        "id": "YYoAvcn6Ryv0"
      }
    },
    {
      "cell_type": "code",
      "source": [
        "!pip install tensorflow tensorflow-gpu opencv-python matplotlib"
      ],
      "metadata": {
        "id": "dSV4BoEeNrtD"
      },
      "execution_count": null,
      "outputs": []
    },
    {
      "cell_type": "markdown",
      "source": [
        "\\* \\* \\*"
      ],
      "metadata": {
        "id": "UyzqE4byOo8H"
      }
    },
    {
      "cell_type": "code",
      "source": [
        "import tensorflow as tf\n",
        "import os"
      ],
      "metadata": {
        "id": "tqtlybSQOrIf"
      },
      "execution_count": 5,
      "outputs": []
    },
    {
      "cell_type": "code",
      "source": [
        "#Avoid OOM(Out of Memory) errors by setting GPU Memory Consumption Growth\n",
        "gpus = tf.config.experimental.list_physical_devices('GPU')\n",
        "for gpu in gpus:\n",
        "    tf.config.experimental.set_memory_growth(gpu, True)"
      ],
      "metadata": {
        "id": "9V9JgHPNPeu_"
      },
      "execution_count": 6,
      "outputs": []
    },
    {
      "cell_type": "markdown",
      "source": [
        "### 1.2 Remove Dodgy Images"
      ],
      "metadata": {
        "id": "lFOR0Yb9RjEe"
      }
    },
    {
      "cell_type": "code",
      "source": [
        ""
      ],
      "metadata": {
        "id": "rxwoEZDERp3k"
      },
      "execution_count": null,
      "outputs": []
    }
  ]
}