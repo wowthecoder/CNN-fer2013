{
  "nbformat": 4,
  "nbformat_minor": 0,
  "metadata": {
    "colab": {
      "name": "FER2013(Google Colab).ipynb",
      "provenance": [],
      "collapsed_sections": [],
      "authorship_tag": "ABX9TyOA3sz1fH+vvn4dtxYnRymb",
      "include_colab_link": true
    },
    "kernelspec": {
      "name": "python3",
      "display_name": "Python 3"
    },
    "language_info": {
      "name": "python"
    },
    "accelerator": "GPU",
    "gpuClass": "standard"
  },
  "cells": [
    {
      "cell_type": "markdown",
      "metadata": {
        "id": "view-in-github",
        "colab_type": "text"
      },
      "source": [
        "<a href=\"https://colab.research.google.com/github/wowthecoder/CNN-fer2013/blob/main/FER2013(Google_Colab).ipynb\" target=\"_parent\"><img src=\"https://colab.research.google.com/assets/colab-badge.svg\" alt=\"Open In Colab\"/></a>"
      ]
    },
    {
      "cell_type": "markdown",
      "source": [
        "# 1. Setup and Load Data"
      ],
      "metadata": {
        "id": "Baw6jRewMrax"
      }
    },
    {
      "cell_type": "markdown",
      "source": [
        "### 1.1 Installing Dependencies and Setup"
      ],
      "metadata": {
        "id": "YYoAvcn6Ryv0"
      }
    },
    {
      "cell_type": "code",
      "source": [
        "!pip install tensorflow tensorflow-gpu opencv-python matplotlib"
      ],
      "metadata": {
        "id": "dSV4BoEeNrtD"
      },
      "execution_count": null,
      "outputs": []
    },
    {
      "cell_type": "markdown",
      "source": [
        "\n",
        "---\n"
      ],
      "metadata": {
        "id": "UyzqE4byOo8H"
      }
    },
    {
      "cell_type": "code",
      "source": [
        "import tensorflow as tf\n",
        "import os"
      ],
      "metadata": {
        "id": "tqtlybSQOrIf"
      },
      "execution_count": 1,
      "outputs": []
    },
    {
      "cell_type": "code",
      "source": [
        "#Avoid OOM(Out of Memory) errors by setting GPU Memory Consumption Growth\n",
        "gpus = tf.config.experimental.list_physical_devices('GPU')\n",
        "for gpu in gpus:\n",
        "    tf.config.experimental.set_memory_growth(gpu, True)"
      ],
      "metadata": {
        "id": "9V9JgHPNPeu_"
      },
      "execution_count": 2,
      "outputs": []
    },
    {
      "cell_type": "markdown",
      "source": [
        "### 1.2 Load data from Kaggle"
      ],
      "metadata": {
        "id": "lFOR0Yb9RjEe"
      }
    },
    {
      "cell_type": "code",
      "source": [
        "from google.colab import drive\n",
        "\n",
        "drive.mount('/content/gdrive', force_remount=True)"
      ],
      "metadata": {
        "id": "rxwoEZDERp3k",
        "colab": {
          "base_uri": "https://localhost:8080/"
        },
        "outputId": "94246943-3bb8-4dd5-c25d-0249d6832842"
      },
      "execution_count": 3,
      "outputs": [
        {
          "output_type": "stream",
          "name": "stdout",
          "text": [
            "Mounted at /content/gdrive\n"
          ]
        }
      ]
    },
    {
      "cell_type": "code",
      "source": [
        "!pip install Kaggle"
      ],
      "metadata": {
        "id": "3x3vj5mVnH0M"
      },
      "execution_count": null,
      "outputs": []
    },
    {
      "cell_type": "code",
      "source": [
        "%cd /content/gdrive/MyDrive/ML_Datasets/"
      ],
      "metadata": {
        "id": "5LbP-iQpnhe5",
        "colab": {
          "base_uri": "https://localhost:8080/"
        },
        "outputId": "5f82703a-b21d-4e67-e5ed-d2adce167029"
      },
      "execution_count": 4,
      "outputs": [
        {
          "output_type": "stream",
          "name": "stdout",
          "text": [
            "/content/gdrive/MyDrive/ML_Datasets\n"
          ]
        }
      ]
    },
    {
      "cell_type": "code",
      "source": [
        "import os\n",
        "\n",
        "os.environ['KAGGLE_CONFIG_DIR'] = \"/content/gdrive/MyDrive/ML_Datasets/\" "
      ],
      "metadata": {
        "id": "Fid6stJHo58D"
      },
      "execution_count": 5,
      "outputs": []
    },
    {
      "cell_type": "code",
      "source": [
        "!kaggle datasets download -d msambare/fer2013"
      ],
      "metadata": {
        "id": "_lFaSzELpL57"
      },
      "execution_count": null,
      "outputs": []
    },
    {
      "cell_type": "markdown",
      "source": [
        "---\n",
        "\n",
        "Now unzip the dataset."
      ],
      "metadata": {
        "id": "fJ6pVVUwplU0"
      }
    },
    {
      "cell_type": "code",
      "source": [
        "!unzip fer2013.zip -d facial_emotions"
      ],
      "metadata": {
        "id": "u2fflevrpoBq"
      },
      "execution_count": null,
      "outputs": []
    },
    {
      "cell_type": "markdown",
      "source": [
        "### 1.3 Load Data"
      ],
      "metadata": {
        "id": "Vwxl0p4mrYTB"
      }
    },
    {
      "cell_type": "code",
      "source": [
        "import numpy as np\n",
        "from matplotlib import pyplot as plt\n",
        "\n",
        "train_ds = tf.keras.utils.image_dataset_from_directory(\n",
        "    'facial_emotions/train', \n",
        "    batch_size=64, \n",
        "    image_size=(48, 48), \n",
        "    color_mode='grayscale', \n",
        "    validation_split=0.2,\n",
        "    subset=\"training\",\n",
        "    seed=123,\n",
        ")"
      ],
      "metadata": {
        "colab": {
          "base_uri": "https://localhost:8080/"
        },
        "id": "G2R6BaQrredx",
        "outputId": "70365e28-3c4f-4bdc-96ce-f9dd063c43fa"
      },
      "execution_count": 6,
      "outputs": [
        {
          "output_type": "stream",
          "name": "stdout",
          "text": [
            "Found 28709 files belonging to 7 classes.\n",
            "Using 22968 files for training.\n"
          ]
        }
      ]
    },
    {
      "cell_type": "code",
      "source": [
        "val_ds = tf.keras.utils.image_dataset_from_directory(\n",
        "    'facial_emotions/train', \n",
        "    batch_size=64, \n",
        "    image_size=(48, 48), \n",
        "    color_mode='grayscale', \n",
        "    validation_split=0.2,\n",
        "    subset=\"validation\",\n",
        "    seed=123,\n",
        ")"
      ],
      "metadata": {
        "colab": {
          "base_uri": "https://localhost:8080/"
        },
        "id": "Hx9Pz1ORmNVb",
        "outputId": "b431d6e4-f6e7-4289-a472-40b1aef70253"
      },
      "execution_count": 7,
      "outputs": [
        {
          "output_type": "stream",
          "name": "stdout",
          "text": [
            "Found 28709 files belonging to 7 classes.\n",
            "Using 5741 files for validation.\n"
          ]
        }
      ]
    },
    {
      "cell_type": "code",
      "source": [
        "train_iterator = train_ds.as_numpy_iterator()\n",
        "# Get another batch from the iterator\n",
        "batch = train_iterator.next()"
      ],
      "metadata": {
        "id": "G9kCH1XbvkHG"
      },
      "execution_count": 8,
      "outputs": []
    },
    {
      "cell_type": "markdown",
      "source": [
        "The code below shows that in 1 batch, there are 64 images of size 48x48px, and each image has 1 color channel(grayscale)"
      ],
      "metadata": {
        "id": "y9Xx1vpEJcJN"
      }
    },
    {
      "cell_type": "code",
      "source": [
        "# Images represented as numpy arrays\n",
        "batch[0].shape"
      ],
      "metadata": {
        "colab": {
          "base_uri": "https://localhost:8080/"
        },
        "id": "eYxGi1mZvwpV",
        "outputId": "6a11549f-72da-4630-dda3-265c82381656"
      },
      "execution_count": 9,
      "outputs": [
        {
          "output_type": "execute_result",
          "data": {
            "text/plain": [
              "(64, 48, 48, 1)"
            ]
          },
          "metadata": {},
          "execution_count": 9
        }
      ]
    },
    {
      "cell_type": "markdown",
      "source": [
        "There are 7 classes so the labels are numbered 0-6."
      ],
      "metadata": {
        "id": "kHxy8yXnxRYt"
      }
    },
    {
      "cell_type": "code",
      "source": [
        "# The image labels\n",
        "batch[1]"
      ],
      "metadata": {
        "colab": {
          "base_uri": "https://localhost:8080/"
        },
        "id": "hkLH_sbYwUVd",
        "outputId": "22c37685-a528-4dc4-9f0b-b94dff314ec7"
      },
      "execution_count": 10,
      "outputs": [
        {
          "output_type": "execute_result",
          "data": {
            "text/plain": [
              "array([5, 0, 5, 4, 0, 5, 0, 4, 3, 2, 2, 5, 4, 0, 3, 2, 1, 3, 2, 3, 4, 3,\n",
              "       3, 4, 6, 0, 6, 3, 2, 2, 4, 5, 1, 4, 2, 3, 3, 0, 2, 2, 3, 2, 0, 4,\n",
              "       3, 3, 6, 3, 3, 6, 0, 3, 3, 3, 0, 5, 4, 4, 6, 3, 2, 4, 4, 0],\n",
              "      dtype=int32)"
            ]
          },
          "metadata": {},
          "execution_count": 10
        }
      ]
    },
    {
      "cell_type": "markdown",
      "source": [
        "Check which number is assigned to which label."
      ],
      "metadata": {
        "id": "oJu55lRCxJ99"
      }
    },
    {
      "cell_type": "code",
      "source": [
        "fig, ax = plt.subplots(ncols=6, figsize=(20, 20))\n",
        "for idx, img in enumerate(batch[0][:6]):\n",
        "    ax[idx].imshow(img.squeeze())\n",
        "    ax[idx].title.set_text(batch[1][idx])"
      ],
      "metadata": {
        "colab": {
          "base_uri": "https://localhost:8080/",
          "height": 216
        },
        "id": "gaZYqRzZxbV9",
        "outputId": "23e24298-c0df-43ea-a7e2-7582ccbe6f12"
      },
      "execution_count": 13,
      "outputs": [
        {
          "output_type": "display_data",
          "data": {
            "text/plain": [
              "<Figure size 1440x1440 with 6 Axes>"
            ],
            "image/png": "[encoded data removed]"
          },
          "metadata": {
            "needs_background": "light"
          }
        }
      ]
    },
    {
      "cell_type": "markdown",
      "source": [
        "\n",
        "*   0: angry\n",
        "*   1: disgust\n",
        "*   2: fear\n",
        "*   3: happy\n",
        "*   4: neutral\n",
        "*   5: sad\n",
        "*   6: surprise\n",
        "\n",
        "\n",
        "\n",
        "\n",
        "\n",
        "\n",
        "\n"
      ],
      "metadata": {
        "id": "RvYueqV4yzCk"
      }
    },
    {
      "cell_type": "markdown",
      "source": [
        "# 2. Preprocess Data"
      ],
      "metadata": {
        "id": "jlFk7hLFIvSm"
      }
    },
    {
      "cell_type": "markdown",
      "source": [
        "### 2.1 Scale Data and One-hot encoding"
      ],
      "metadata": {
        "id": "PgwK6fIFI3a8"
      }
    },
    {
      "cell_type": "markdown",
      "source": [
        "Scale our data values from 0-255(RGB values) to 0-1   \n",
        "One-hot encoding is for Categorical entropy"
      ],
      "metadata": {
        "id": "I8JSW3ZwLmst"
      }
    },
    {
      "cell_type": "code",
      "source": [
        "train_ds = train_ds.map(lambda x,y: (x/255, tf.one_hot(y, depth=7)))\n",
        "val_ds = val_ds.map(lambda x,y: (x/255, tf.one_hot(y, depth=7)))"
      ],
      "metadata": {
        "id": "fFpbU4bnI56E"
      },
      "execution_count": 11,
      "outputs": []
    },
    {
      "cell_type": "markdown",
      "source": [
        "The code below is for testing."
      ],
      "metadata": {
        "id": "pQxSpDD0OPG-"
      }
    },
    {
      "cell_type": "code",
      "source": [
        "scaled_iterator = train_ds.as_numpy_iterator()\n",
        "batch = scaled_iterator.next()\n",
        "batch[0].max()"
      ],
      "metadata": {
        "colab": {
          "base_uri": "https://localhost:8080/"
        },
        "id": "cA1ELDDPN5WN",
        "outputId": "72ac47eb-bc87-410f-964a-8ec874d56fd0"
      },
      "execution_count": 12,
      "outputs": [
        {
          "output_type": "execute_result",
          "data": {
            "text/plain": [
              "1.0"
            ]
          },
          "metadata": {},
          "execution_count": 12
        }
      ]
    },
    {
      "cell_type": "markdown",
      "source": [
        "### 2.2 Optimise Performance"
      ],
      "metadata": {
        "id": "iSY424wZnB0i"
      }
    },
    {
      "cell_type": "code",
      "source": [
        "AUTOTUNE = tf.data.AUTOTUNE   \n",
        "\n",
        "train_ds = train_ds.cache().prefetch(buffer_size=AUTOTUNE)   \n",
        "val_ds = val_ds.cache().prefetch(buffer_size=AUTOTUNE)"
      ],
      "metadata": {
        "id": "7MzV7ddsnI7C"
      },
      "execution_count": 13,
      "outputs": []
    },
    {
      "cell_type": "markdown",
      "source": [
        "# 3. Deep Learning"
      ],
      "metadata": {
        "id": "2EcC8SCIRc5y"
      }
    },
    {
      "cell_type": "markdown",
      "source": [
        "### 3.1 Build Deep Learning Model"
      ],
      "metadata": {
        "id": "x6a3sfGhRig5"
      }
    },
    {
      "cell_type": "code",
      "source": [
        "from tensorflow.keras.models import Sequential\n",
        "from tensorflow.keras.layers import Conv2D, MaxPooling2D, Dense, Flatten, BatchNormalization, Dropout\n",
        "\n",
        "model = Sequential([\n",
        "    # Add padding later\n",
        "    Conv2D(filters=64, kernel_size=(3,3), strides=1, activation='relu', input_shape=(48,48,1)),\n",
        "    Conv2D(filters=64, kernel_size=(3,3), strides=1, padding='same', activation='relu'),\n",
        "    BatchNormalization(),\n",
        "    MaxPooling2D(),\n",
        "    Dropout(0.5),\n",
        "\n",
        "    Conv2D(filters=128, kernel_size=(3,3), strides=1, padding='same', activation='relu'),\n",
        "    BatchNormalization(),\n",
        "\n",
        "    Conv2D(filters=128, kernel_size=(3,3), strides=1, padding='same', activation='relu'),\n",
        "    BatchNormalization(),\n",
        "\n",
        "    Conv2D(filters=128, kernel_size=(3,3), strides=1, padding='same', activation='relu'),\n",
        "    BatchNormalization(),\n",
        "    MaxPooling2D(),\n",
        "    Dropout(0.5),\n",
        "\n",
        "    Conv2D(filters=256, kernel_size=(3,3), strides=1, padding='same', activation='relu'),\n",
        "    BatchNormalization(),\n",
        "\n",
        "    Conv2D(filters=256, kernel_size=(3,3), strides=1, padding='same', activation='relu'),\n",
        "    BatchNormalization(),\n",
        "\n",
        "    Conv2D(filters=256, kernel_size=(3,3), strides=1, padding='same', activation='relu'),\n",
        "    BatchNormalization(),\n",
        "    MaxPooling2D(),\n",
        "    Dropout(0.5),\n",
        "\n",
        "    Conv2D(filters=512, kernel_size=(3,3), strides=1, padding='same', activation='relu'),\n",
        "    BatchNormalization(),\n",
        "\n",
        "    Conv2D(filters=512, kernel_size=(3,3), strides=1, padding='same', activation='relu'),\n",
        "    BatchNormalization(),\n",
        "\n",
        "    Conv2D(filters=512, kernel_size=(3,3), strides=1, padding='same', activation='relu'),\n",
        "    BatchNormalization(),\n",
        "    MaxPooling2D(),\n",
        "    Dropout(0.5),\n",
        "\n",
        "    Flatten(),\n",
        "    Dense(units=512, activation='relu'),\n",
        "    Dropout(0.5),\n",
        "    Dense(units=256, activation='relu'),\n",
        "    Dropout(0.5),\n",
        "    Dense(units=128, activation='relu'),\n",
        "    Dropout(0.5),\n",
        "    Dense(units=64, activation='relu'),\n",
        "    Dropout(0.5),\n",
        "    # softmax for multi-class classification\n",
        "    Dense(units=7, activation='softmax'),\n",
        "])"
      ],
      "metadata": {
        "id": "ZmSZx1g8UX2J"
      },
      "execution_count": 14,
      "outputs": []
    },
    {
      "cell_type": "code",
      "source": [
        "adam = tf.keras.optimizers.Adam(learning_rate=0.001)\n",
        "model.compile(\n",
        "    optimizer=adam,\n",
        "    loss='categorical_crossentropy',\n",
        "    metrics=['accuracy']\n",
        ")"
      ],
      "metadata": {
        "id": "ICVA1tJIY7N4"
      },
      "execution_count": 15,
      "outputs": []
    },
    {
      "cell_type": "code",
      "source": [
        "model.summary()"
      ],
      "metadata": {
        "colab": {
          "base_uri": "https://localhost:8080/"
        },
        "id": "e4tDngSAZaLs",
        "outputId": "b41399dc-83c4-4332-fcc7-a1736ad2bd88"
      },
      "execution_count": 16,
      "outputs": [
        {
          "output_type": "stream",
          "name": "stdout",
          "text": [
            "Model: \"sequential\"\n",
            "_________________________________________________________________\n",
            " Layer (type)                Output Shape              Param #   \n",
            "=================================================================\n",
            " conv2d (Conv2D)             (None, 46, 46, 64)        640       \n",
            "                                                                 \n",
            " conv2d_1 (Conv2D)           (None, 46, 46, 64)        36928     \n",
            "                                                                 \n",
            " batch_normalization (BatchN  (None, 46, 46, 64)       256       \n",
            " ormalization)                                                   \n",
            "                                                                 \n",
            " max_pooling2d (MaxPooling2D  (None, 23, 23, 64)       0         \n",
            " )                                                               \n",
            "                                                                 \n",
            " dropout (Dropout)           (None, 23, 23, 64)        0         \n",
            "                                                                 \n",
            " conv2d_2 (Conv2D)           (None, 23, 23, 128)       73856     \n",
            "                                                                 \n",
            " batch_normalization_1 (Batc  (None, 23, 23, 128)      512       \n",
            " hNormalization)                                                 \n",
            "                                                                 \n",
            " conv2d_3 (Conv2D)           (None, 23, 23, 128)       147584    \n",
            "                                                                 \n",
            " batch_normalization_2 (Batc  (None, 23, 23, 128)      512       \n",
            " hNormalization)                                                 \n",
            "                                                                 \n",
            " conv2d_4 (Conv2D)           (None, 23, 23, 128)       147584    \n",
            "                                                                 \n",
            " batch_normalization_3 (Batc  (None, 23, 23, 128)      512       \n",
            " hNormalization)                                                 \n",
            "                                                                 \n",
            " max_pooling2d_1 (MaxPooling  (None, 11, 11, 128)      0         \n",
            " 2D)                                                             \n",
            "                                                                 \n",
            " dropout_1 (Dropout)         (None, 11, 11, 128)       0         \n",
            "                                                                 \n",
            " conv2d_5 (Conv2D)           (None, 11, 11, 256)       295168    \n",
            "                                                                 \n",
            " batch_normalization_4 (Batc  (None, 11, 11, 256)      1024      \n",
            " hNormalization)                                                 \n",
            "                                                                 \n",
            " conv2d_6 (Conv2D)           (None, 11, 11, 256)       590080    \n",
            "                                                                 \n",
            " batch_normalization_5 (Batc  (None, 11, 11, 256)      1024      \n",
            " hNormalization)                                                 \n",
            "                                                                 \n",
            " conv2d_7 (Conv2D)           (None, 11, 11, 256)       590080    \n",
            "                                                                 \n",
            " batch_normalization_6 (Batc  (None, 11, 11, 256)      1024      \n",
            " hNormalization)                                                 \n",
            "                                                                 \n",
            " max_pooling2d_2 (MaxPooling  (None, 5, 5, 256)        0         \n",
            " 2D)                                                             \n",
            "                                                                 \n",
            " dropout_2 (Dropout)         (None, 5, 5, 256)         0         \n",
            "                                                                 \n",
            " conv2d_8 (Conv2D)           (None, 5, 5, 512)         1180160   \n",
            "                                                                 \n",
            " batch_normalization_7 (Batc  (None, 5, 5, 512)        2048      \n",
            " hNormalization)                                                 \n",
            "                                                                 \n",
            " conv2d_9 (Conv2D)           (None, 5, 5, 512)         2359808   \n",
            "                                                                 \n",
            " batch_normalization_8 (Batc  (None, 5, 5, 512)        2048      \n",
            " hNormalization)                                                 \n",
            "                                                                 \n",
            " conv2d_10 (Conv2D)          (None, 5, 5, 512)         2359808   \n",
            "                                                                 \n",
            " batch_normalization_9 (Batc  (None, 5, 5, 512)        2048      \n",
            " hNormalization)                                                 \n",
            "                                                                 \n",
            " max_pooling2d_3 (MaxPooling  (None, 2, 2, 512)        0         \n",
            " 2D)                                                             \n",
            "                                                                 \n",
            " dropout_3 (Dropout)         (None, 2, 2, 512)         0         \n",
            "                                                                 \n",
            " flatten (Flatten)           (None, 2048)              0         \n",
            "                                                                 \n",
            " dense (Dense)               (None, 512)               1049088   \n",
            "                                                                 \n",
            " dropout_4 (Dropout)         (None, 512)               0         \n",
            "                                                                 \n",
            " dense_1 (Dense)             (None, 256)               131328    \n",
            "                                                                 \n",
            " dropout_5 (Dropout)         (None, 256)               0         \n",
            "                                                                 \n",
            " dense_2 (Dense)             (None, 128)               32896     \n",
            "                                                                 \n",
            " dropout_6 (Dropout)         (None, 128)               0         \n",
            "                                                                 \n",
            " dense_3 (Dense)             (None, 64)                8256      \n",
            "                                                                 \n",
            " dropout_7 (Dropout)         (None, 64)                0         \n",
            "                                                                 \n",
            " dense_4 (Dense)             (None, 7)                 455       \n",
            "                                                                 \n",
            "=================================================================\n",
            "Total params: 9,014,727\n",
            "Trainable params: 9,009,223\n",
            "Non-trainable params: 5,504\n",
            "_________________________________________________________________\n"
          ]
        }
      ]
    },
    {
      "cell_type": "markdown",
      "source": [
        "### 3.2 Train Model"
      ],
      "metadata": {
        "id": "LzlGF09ea335"
      }
    },
    {
      "cell_type": "code",
      "source": [
        "from tensorflow.keras.callbacks import ReduceLROnPlateau, EarlyStopping, ModelCheckpoint"
      ],
      "metadata": {
        "id": "xjP5z7OwtUZS"
      },
      "execution_count": 17,
      "outputs": []
    },
    {
      "cell_type": "code",
      "source": [
        "logdir='facial_emotions/logs'"
      ],
      "metadata": {
        "id": "9_m7zFHna6MQ"
      },
      "execution_count": 18,
      "outputs": []
    },
    {
      "cell_type": "markdown",
      "source": [
        "Callback functions:\n",
        "1.   **ReduceLROnPlateau**\n",
        "> This function monitors the validation loss for signs of a plateau and then modify the learning rate by the specified factor when a plateau is detected.\n",
        "\n",
        "\n",
        "\n"
      ],
      "metadata": {
        "id": "Y1wWdo3ysor8"
      }
    },
    {
      "cell_type": "code",
      "source": [
        "lr_reducer = ReduceLROnPlateau(monitor='val_loss', factor=0.9, patience=3)"
      ],
      "metadata": {
        "id": "4j4mY5attQE7"
      },
      "execution_count": 19,
      "outputs": []
    },
    {
      "cell_type": "markdown",
      "source": [
        "2.   **EarlyStopping**\n",
        "\n",
        "> The function waits for a number of epochs and terminates the training if no change in the parameter is found.\n",
        "\n",
        "\n",
        "\n"
      ],
      "metadata": {
        "id": "qVo3zTLxts8z"
      }
    },
    {
      "cell_type": "code",
      "source": [
        "early_stopping = EarlyStopping(\n",
        "    monitor='val_acc',\n",
        "    min_delta=0.001,\n",
        "    patience=6,\n",
        "    mode='auto',\n",
        "    restore_best_weights=True,\n",
        ")"
      ],
      "metadata": {
        "id": "MnY7klPSeCWg"
      },
      "execution_count": 20,
      "outputs": []
    },
    {
      "cell_type": "markdown",
      "source": [
        "3.   **ModelCheckpoint**\n",
        "\n",
        "> Saves the model after every epoch. In case training stops, we can load the checkpoint and resume the progress.\n",
        "\n",
        "\n",
        "\n",
        "\n",
        "\n",
        "\n",
        "\n"
      ],
      "metadata": {
        "id": "HqU3EtvSuYyK"
      }
    },
    {
      "cell_type": "code",
      "source": [
        "checkpointer = ModelCheckpoint(\n",
        "    filepath=logdir,\n",
        "    monitor='val_loss',\n",
        "    verbose=1,\n",
        "    save_best_only=True,\n",
        ")"
      ],
      "metadata": {
        "id": "Sjxls0rxvBdC"
      },
      "execution_count": 21,
      "outputs": []
    },
    {
      "cell_type": "code",
      "source": [
        "hist = model.fit(\n",
        "    train_ds,\n",
        "    epochs=100,\n",
        "    validation_data=val_ds,\n",
        "    shuffle=True,\n",
        "    callbacks=[lr_reducer, early_stopping, checkpointer],\n",
        ")"
      ],
      "metadata": {
        "id": "1N4Autf-bvH3"
      },
      "execution_count": null,
      "outputs": []
    },
    {
      "cell_type": "code",
      "source": [
        "fig = plt.figure()\n",
        "\n",
        "plt.plot(hist.history['loss'], color='teal', label='loss')\n",
        "plt.plot(hist.history['val_loss'], color='orange', label='val_loss')\n",
        "fig.suptitle('Loss', fontsize=20)\n",
        "plt.legend(loc=\"upper right\")\n",
        "plt.show()"
      ],
      "metadata": {
        "id": "MoiQJZhcgr-g"
      },
      "execution_count": null,
      "outputs": []
    },
    {
      "cell_type": "code",
      "source": [
        "fig = plt.figure()\n",
        "plt.plot(hist.history['accuracy'], color='teal', label='acc')\n",
        "plt.plot(hist.history['val_accuracy'], color='orange', label='val_acc')\n",
        "fig.suptitle('Accuracy', fontsize=20)\n",
        "plt.legend(loc=\"upper left\")\n",
        "plt.show()"
      ],
      "metadata": {
        "id": "qJES3as7h4jf"
      },
      "execution_count": null,
      "outputs": []
    },
    {
      "cell_type": "markdown",
      "source": [
        "# 4. Evaluate Performance"
      ],
      "metadata": {
        "id": "VmmzITApuIuJ"
      }
    },
    {
      "cell_type": "markdown",
      "source": [
        "### Test (with test dataset)"
      ],
      "metadata": {
        "id": "qeh22IwQuNL4"
      }
    },
    {
      "cell_type": "code",
      "source": [
        "test_data = tf.keras.utils.image_dataset_from_directory(\n",
        "    '../input/fer2013/test',\n",
        "    batch_size=64,\n",
        "    image_size=(48,48),\n",
        "    color_mode='grayscale',\n",
        ")   \n",
        "test_data = test_data.map(lambda x,y: (x/255, tf.one_hot(y, depth=7)))"
      ],
      "metadata": {
        "id": "JPc__EZZuQs4"
      },
      "execution_count": null,
      "outputs": []
    },
    {
      "cell_type": "code",
      "source": [
        "predictions = model.predict(test_data)"
      ],
      "metadata": {
        "id": "0blIbhL4uS0A"
      },
      "execution_count": null,
      "outputs": []
    },
    {
      "cell_type": "code",
      "source": [
        "scores = model.evaluate(test_data)\n",
        "print(model.metrics_names)\n",
        "print(scores)"
      ],
      "metadata": {
        "id": "KBBCfC6KuW_p"
      },
      "execution_count": null,
      "outputs": []
    },
    {
      "cell_type": "markdown",
      "source": [
        "Highest accuracy achieved: **62.86%**   \n",
        "Benchmarks:   \n",
        "*   human-level accuracy - 65±5%   \n",
        "*   highest performing published work - 76.82%\n",
        "\n",
        "\n",
        "\n"
      ],
      "metadata": {
        "id": "euOFjcotuX8w"
      }
    }
  ]
}